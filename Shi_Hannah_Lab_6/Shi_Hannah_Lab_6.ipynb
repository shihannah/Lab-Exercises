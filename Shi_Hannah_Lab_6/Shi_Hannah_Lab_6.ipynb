{
 "cells": [
  {
   "cell_type": "code",
   "execution_count": 1,
   "id": "12481401",
   "metadata": {},
   "outputs": [],
   "source": [
    "from selenium import webdriver\n",
    "from selenium.webdriver.chrome.service import Service\n",
    "from selenium.webdriver.common.keys import Keys\n",
    "from selenium.webdriver.common.by import By\n",
    "from selenium.webdriver.support.ui import WebDriverWait\n",
    "from selenium.webdriver.support import expected_conditions as EC\n",
    "from selenium.webdriver.common.action_chains import ActionChains\n",
    "import csv\n",
    "import pandas as pd\n",
    "import time"
   ]
  },
  {
   "cell_type": "code",
   "execution_count": null,
   "id": "fe2f56ed",
   "metadata": {},
   "outputs": [
    {
     "name": "stderr",
     "output_type": "stream",
     "text": [
      "/var/folders/rj/zw_bqr110tj82rj0h1b5fckh0000gn/T/ipykernel_11501/3458376053.py:3: DeprecationWarning: executable_path has been deprecated, please pass in a Service object\n",
      "  driver = webdriver.Chrome(PATH)\n"
     ]
    }
   ],
   "source": [
    "#Question 1\n",
    "PATH = \"/Users/hannahshi/harp151/labs/chromedriver.exe\"\n",
    "driver = webdriver.Chrome(PATH)\n",
    "driver.get(\"https://www.binghamton-ny.gov/home\")\n",
    "government = driver.find_element(By.XPATH, \"//*[@id='dropdownrootitem3']/a\")\n",
    "department = driver.find_element(By.XPATH, \"//*[@id='dropdownrootitem3']/div/div/ul[1]/li/a\")\n",
    "\n",
    "actions = ActionChains(driver)\n",
    "actions.move_to_element(government)\n",
    "actions.click(government)\n",
    "actions.click(department)\n",
    "actions.perform()\n",
    "\n",
    "#Question 2\n",
    "try: \n",
    "    pcs = WebDriverWait(driver,10).until(EC.presence_of_element_located((By.XPATH, \"//*[@id='widget_4_33_127']/ul/li[16]/a\")))\n",
    "    pcs.click()\n",
    "    \n",
    "    jobs = WebDriverWait(driver,10).until(EC.presence_of_element_located((By.XPATH, \"//*[@id='widget_1040_107_145']/p[1]/a\")))\n",
    "    jobs.click()\n",
    "    \n",
    "except:\n",
    "    driver.quit()"
   ]
  },
  {
   "cell_type": "code",
   "execution_count": null,
   "id": "533307f3",
   "metadata": {},
   "outputs": [],
   "source": [
    "#Question 3\n",
    "csv_file = open(\"JobOpenings.csv\", \"w\", newline = \"\", encoding = \"utf-8\")\n",
    "csv_writer = csv.writer(csv_file)\n",
    "csv_writer.writerow([\"Job\", \"Type\", \"Deadline\", \"Salary\"])\n",
    "\n",
    "PATH = \"/Users/hannahshi/harp151/labs/chromedriver.exe\"\n",
    "driver = webdriver.Chrome(PATH)\n",
    "driver.get(\"https://www.binghamton-ny.gov/government/departments/personnel-civil-service/employment\")\n",
    "\n",
    "element = driver.find_element(By.XPATH, \"//*[@id='ColumnUserControl4']/div[2]/table/tbody\")\n",
    "    \n",
    "for i in element.find_elements(By.TAG_NAME, \"tr\"):\n",
    "    job_name = i.find_element(By.CSS_SELECTOR,(\"[data-th='Job']\")).text\n",
    "    print(job_name)\n",
    "        \n",
    "    job_type = i.find_element(By.CSS_SELECTOR,(\"[data-th='Type']\")).text #XPATH does not work for these elements bc it is too specific. if used, the same values are repeated for the entire column. \n",
    "    print(job_type)\n",
    "        \n",
    "    deadline = i.find_element(By.CSS_SELECTOR,(\"[data-th='Application Deadline']\")).text\n",
    "    print(deadline)\n",
    "        \n",
    "    salary = i.find_element(By.CSS_SELECTOR,(\"[data-th='Salary']\")).text\n",
    "    print(salary)\n",
    "        \n",
    "    csv_writer.writerow([job_name, job_type, deadline, salary])\n",
    "csv_file.close()"
   ]
  },
  {
   "cell_type": "code",
   "execution_count": null,
   "id": "4eb3b4cf",
   "metadata": {},
   "outputs": [],
   "source": [
    "data_sheet = pd.read_csv(\"JobOpenings.csv\") #reading csv\n",
    "data_sheet"
   ]
  }
 ],
 "metadata": {
  "kernelspec": {
   "display_name": "Python 3 (ipykernel)",
   "language": "python",
   "name": "python3"
  },
  "language_info": {
   "codemirror_mode": {
    "name": "ipython",
    "version": 3
   },
   "file_extension": ".py",
   "mimetype": "text/x-python",
   "name": "python",
   "nbconvert_exporter": "python",
   "pygments_lexer": "ipython3",
   "version": "3.9.12"
  }
 },
 "nbformat": 4,
 "nbformat_minor": 5
}
